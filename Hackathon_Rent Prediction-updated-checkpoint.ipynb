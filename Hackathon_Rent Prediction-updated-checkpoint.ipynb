{
 "cells": [
  {
   "cell_type": "markdown",
   "metadata": {},
   "source": [
    "## DATA LOADING AND EXPLARATORY DATA ANALYSIS\n"
   ]
  },
  {
   "cell_type": "code",
   "execution_count": 1,
   "metadata": {},
   "outputs": [],
   "source": [
    "#Importing Libraries\n",
    "import numpy as np\n",
    "import pandas as pd\n",
    "import seaborn as sns\n",
    "import matplotlib.pyplot as plt\n",
    "from sklearn.model_selection import train_test_split, cross_val_score\n",
    "\n",
    "from sklearn.linear_model import ElasticNet\n",
    "from sklearn.datasets import make_regression\n",
    "from sklearn.kernel_ridge import KernelRidge\n",
    "from sklearn.ensemble import RandomForestRegressor\n",
    "from sklearn.svm import SVR\n",
    "from sklearn.pipeline import make_pipeline\n",
    "import xgboost as xgb\n",
    "\n",
    "from sklearn.linear_model import LinearRegression, Lasso, Ridge\n",
    "from sklearn.metrics import mean_squared_error, r2_score\n",
    "from sklearn.metrics import r2_score\n",
    "from sklearn import metrics \n",
    "from sklearn.preprocessing import PolynomialFeatures\n",
    "from sklearn.pipeline import Pipeline\n",
    "from sklearn.pipeline import make_pipeline\n",
    "from sklearn.preprocessing import LabelEncoder\n",
    "from sklearn.preprocessing import OneHotEncoder\n",
    "from sklearn import preprocessing\n",
    "import warnings\n",
    "warnings.filterwarnings('ignore')\n"
   ]
  },
  {
   "cell_type": "code",
   "execution_count": 2,
   "metadata": {},
   "outputs": [],
   "source": [
    "#Lode data set\n",
    "Train=pd.read_csv('Train.csv')\n",
    "Test=pd.read_csv('Test.csv')\n"
   ]
  },
  {
   "cell_type": "code",
   "execution_count": 3,
   "metadata": {},
   "outputs": [
    {
     "data": {
      "text/plain": [
       "id                                  int64\n",
       "name                               object\n",
       "host_id                             int64\n",
       "host_name                          object\n",
       "neighbourhood_group                object\n",
       "neighbourhood                      object\n",
       "latitude                          float64\n",
       "longitude                         float64\n",
       "room_type                          object\n",
       "price                               int64\n",
       "minimum_nights                      int64\n",
       "number_of_reviews                   int64\n",
       "last_review                        object\n",
       "reviews_per_month                 float64\n",
       "calculated_host_listings_count      int64\n",
       "availability_365                    int64\n",
       "dtype: object"
      ]
     },
     "execution_count": 3,
     "metadata": {},
     "output_type": "execute_result"
    }
   ],
   "source": [
    "# Check data type \n",
    "Train.dtypes"
   ]
  },
  {
   "cell_type": "code",
   "execution_count": 4,
   "metadata": {},
   "outputs": [
    {
     "data": {
      "text/html": [
       "<div>\n",
       "<style scoped>\n",
       "    .dataframe tbody tr th:only-of-type {\n",
       "        vertical-align: middle;\n",
       "    }\n",
       "\n",
       "    .dataframe tbody tr th {\n",
       "        vertical-align: top;\n",
       "    }\n",
       "\n",
       "    .dataframe thead th {\n",
       "        text-align: right;\n",
       "    }\n",
       "</style>\n",
       "<table border=\"1\" class=\"dataframe\">\n",
       "  <thead>\n",
       "    <tr style=\"text-align: right;\">\n",
       "      <th></th>\n",
       "      <th>id</th>\n",
       "      <th>host_id</th>\n",
       "      <th>latitude</th>\n",
       "      <th>longitude</th>\n",
       "      <th>price</th>\n",
       "      <th>minimum_nights</th>\n",
       "      <th>number_of_reviews</th>\n",
       "      <th>reviews_per_month</th>\n",
       "      <th>calculated_host_listings_count</th>\n",
       "      <th>availability_365</th>\n",
       "    </tr>\n",
       "  </thead>\n",
       "  <tbody>\n",
       "    <tr>\n",
       "      <th>count</th>\n",
       "      <td>3.422600e+04</td>\n",
       "      <td>3.422600e+04</td>\n",
       "      <td>34226.000000</td>\n",
       "      <td>34226.000000</td>\n",
       "      <td>34226.000000</td>\n",
       "      <td>34226.000000</td>\n",
       "      <td>34226.000000</td>\n",
       "      <td>27244.000000</td>\n",
       "      <td>34226.000000</td>\n",
       "      <td>34226.000000</td>\n",
       "    </tr>\n",
       "    <tr>\n",
       "      <th>mean</th>\n",
       "      <td>1.898209e+07</td>\n",
       "      <td>6.733847e+07</td>\n",
       "      <td>40.729059</td>\n",
       "      <td>-73.952070</td>\n",
       "      <td>153.480979</td>\n",
       "      <td>6.953690</td>\n",
       "      <td>23.390931</td>\n",
       "      <td>1.377074</td>\n",
       "      <td>7.093905</td>\n",
       "      <td>113.301730</td>\n",
       "    </tr>\n",
       "    <tr>\n",
       "      <th>std</th>\n",
       "      <td>1.097597e+07</td>\n",
       "      <td>7.833091e+07</td>\n",
       "      <td>0.054604</td>\n",
       "      <td>0.046161</td>\n",
       "      <td>243.312608</td>\n",
       "      <td>20.255833</td>\n",
       "      <td>44.476822</td>\n",
       "      <td>1.688953</td>\n",
       "      <td>32.828412</td>\n",
       "      <td>131.892814</td>\n",
       "    </tr>\n",
       "    <tr>\n",
       "      <th>min</th>\n",
       "      <td>2.595000e+03</td>\n",
       "      <td>2.438000e+03</td>\n",
       "      <td>40.499790</td>\n",
       "      <td>-74.244420</td>\n",
       "      <td>0.000000</td>\n",
       "      <td>1.000000</td>\n",
       "      <td>0.000000</td>\n",
       "      <td>0.010000</td>\n",
       "      <td>1.000000</td>\n",
       "      <td>0.000000</td>\n",
       "    </tr>\n",
       "    <tr>\n",
       "      <th>25%</th>\n",
       "      <td>9.460366e+06</td>\n",
       "      <td>7.824440e+06</td>\n",
       "      <td>40.690040</td>\n",
       "      <td>-73.983150</td>\n",
       "      <td>69.000000</td>\n",
       "      <td>1.000000</td>\n",
       "      <td>1.000000</td>\n",
       "      <td>0.190000</td>\n",
       "      <td>1.000000</td>\n",
       "      <td>0.000000</td>\n",
       "    </tr>\n",
       "    <tr>\n",
       "      <th>50%</th>\n",
       "      <td>1.965371e+07</td>\n",
       "      <td>3.065628e+07</td>\n",
       "      <td>40.722995</td>\n",
       "      <td>-73.955700</td>\n",
       "      <td>107.000000</td>\n",
       "      <td>2.000000</td>\n",
       "      <td>5.000000</td>\n",
       "      <td>0.730000</td>\n",
       "      <td>1.000000</td>\n",
       "      <td>45.000000</td>\n",
       "    </tr>\n",
       "    <tr>\n",
       "      <th>75%</th>\n",
       "      <td>2.908201e+07</td>\n",
       "      <td>1.074344e+08</td>\n",
       "      <td>40.763200</td>\n",
       "      <td>-73.935982</td>\n",
       "      <td>175.000000</td>\n",
       "      <td>5.000000</td>\n",
       "      <td>24.000000</td>\n",
       "      <td>2.020000</td>\n",
       "      <td>2.000000</td>\n",
       "      <td>229.000000</td>\n",
       "    </tr>\n",
       "    <tr>\n",
       "      <th>max</th>\n",
       "      <td>3.648724e+07</td>\n",
       "      <td>2.743115e+08</td>\n",
       "      <td>40.913060</td>\n",
       "      <td>-73.712990</td>\n",
       "      <td>10000.000000</td>\n",
       "      <td>1250.000000</td>\n",
       "      <td>629.000000</td>\n",
       "      <td>58.500000</td>\n",
       "      <td>327.000000</td>\n",
       "      <td>365.000000</td>\n",
       "    </tr>\n",
       "  </tbody>\n",
       "</table>\n",
       "</div>"
      ],
      "text/plain": [
       "                 id       host_id      latitude     longitude         price  \\\n",
       "count  3.422600e+04  3.422600e+04  34226.000000  34226.000000  34226.000000   \n",
       "mean   1.898209e+07  6.733847e+07     40.729059    -73.952070    153.480979   \n",
       "std    1.097597e+07  7.833091e+07      0.054604      0.046161    243.312608   \n",
       "min    2.595000e+03  2.438000e+03     40.499790    -74.244420      0.000000   \n",
       "25%    9.460366e+06  7.824440e+06     40.690040    -73.983150     69.000000   \n",
       "50%    1.965371e+07  3.065628e+07     40.722995    -73.955700    107.000000   \n",
       "75%    2.908201e+07  1.074344e+08     40.763200    -73.935982    175.000000   \n",
       "max    3.648724e+07  2.743115e+08     40.913060    -73.712990  10000.000000   \n",
       "\n",
       "       minimum_nights  number_of_reviews  reviews_per_month  \\\n",
       "count    34226.000000       34226.000000       27244.000000   \n",
       "mean         6.953690          23.390931           1.377074   \n",
       "std         20.255833          44.476822           1.688953   \n",
       "min          1.000000           0.000000           0.010000   \n",
       "25%          1.000000           1.000000           0.190000   \n",
       "50%          2.000000           5.000000           0.730000   \n",
       "75%          5.000000          24.000000           2.020000   \n",
       "max       1250.000000         629.000000          58.500000   \n",
       "\n",
       "       calculated_host_listings_count  availability_365  \n",
       "count                    34226.000000      34226.000000  \n",
       "mean                         7.093905        113.301730  \n",
       "std                         32.828412        131.892814  \n",
       "min                          1.000000          0.000000  \n",
       "25%                          1.000000          0.000000  \n",
       "50%                          1.000000         45.000000  \n",
       "75%                          2.000000        229.000000  \n",
       "max                        327.000000        365.000000  "
      ]
     },
     "execution_count": 4,
     "metadata": {},
     "output_type": "execute_result"
    }
   ],
   "source": [
    "Train.describe()"
   ]
  },
  {
   "cell_type": "code",
   "execution_count": 5,
   "metadata": {},
   "outputs": [
    {
     "data": {
      "text/plain": [
       "<AxesSubplot:ylabel='Frequency'>"
      ]
     },
     "execution_count": 5,
     "metadata": {},
     "output_type": "execute_result"
    },
    {
     "data": {
      "image/png": "[encoded data removed]",
      "text/plain": [
       "<Figure size 432x288 with 1 Axes>"
      ]
     },
     "metadata": {
      "needs_background": "light"
     },
     "output_type": "display_data"
    }
   ],
   "source": [
    "Train['price'].plot.hist(bins=50) "
   ]
  },
  {
   "cell_type": "code",
   "execution_count": 6,
   "metadata": {},
   "outputs": [
    {
     "name": "stdout",
     "output_type": "stream",
     "text": [
      "(34004, 16)\n",
      "id                                   0\n",
      "name                                12\n",
      "host_id                              0\n",
      "host_name                           13\n",
      "neighbourhood_group                  0\n",
      "neighbourhood                        0\n",
      "latitude                             0\n",
      "longitude                            0\n",
      "room_type                            0\n",
      "price                                0\n",
      "minimum_nights                       0\n",
      "number_of_reviews                    0\n",
      "last_review                       6865\n",
      "reviews_per_month                 6865\n",
      "calculated_host_listings_count       0\n",
      "availability_365                     0\n",
      "dtype: int64\n"
     ]
    }
   ],
   "source": [
    "drop_price=Train[(Train['price']==0) | (Train['price']>=1000)].index\n",
    "Train.drop(drop_price, axis=0, inplace=True)\n",
    "print(Train.shape)\n",
    "print(Train.isnull().sum())\n",
    "Train.reset_index(inplace=True)"
   ]
  },
  {
   "cell_type": "code",
   "execution_count": 7,
   "metadata": {},
   "outputs": [
    {
     "data": {
      "text/plain": [
       "<AxesSubplot:ylabel='Frequency'>"
      ]
     },
     "execution_count": 7,
     "metadata": {},
     "output_type": "execute_result"
    },
    {
     "data": {
      "image/png": "[encoded data removed]",
      "text/plain": [
       "<Figure size 432x288 with 1 Axes>"
      ]
     },
     "metadata": {
      "needs_background": "light"
     },
     "output_type": "display_data"
    }
   ],
   "source": [
    "Train['price'].plot.hist(bins=50) "
   ]
  },
  {
   "cell_type": "code",
   "execution_count": 8,
   "metadata": {},
   "outputs": [
    {
     "data": {
      "text/html": [
       "<div>\n",
       "<style scoped>\n",
       "    .dataframe tbody tr th:only-of-type {\n",
       "        vertical-align: middle;\n",
       "    }\n",
       "\n",
       "    .dataframe tbody tr th {\n",
       "        vertical-align: top;\n",
       "    }\n",
       "\n",
       "    .dataframe thead th {\n",
       "        text-align: right;\n",
       "    }\n",
       "</style>\n",
       "<table border=\"1\" class=\"dataframe\">\n",
       "  <thead>\n",
       "    <tr style=\"text-align: right;\">\n",
       "      <th></th>\n",
       "      <th>index</th>\n",
       "      <th>id</th>\n",
       "      <th>name</th>\n",
       "      <th>host_id</th>\n",
       "      <th>host_name</th>\n",
       "      <th>neighbourhood_group</th>\n",
       "      <th>neighbourhood</th>\n",
       "      <th>latitude</th>\n",
       "      <th>longitude</th>\n",
       "      <th>room_type</th>\n",
       "      <th>price</th>\n",
       "      <th>minimum_nights</th>\n",
       "      <th>number_of_reviews</th>\n",
       "      <th>last_review</th>\n",
       "      <th>reviews_per_month</th>\n",
       "      <th>calculated_host_listings_count</th>\n",
       "      <th>availability_365</th>\n",
       "    </tr>\n",
       "  </thead>\n",
       "  <tbody>\n",
       "    <tr>\n",
       "      <th>count</th>\n",
       "      <td>34004</td>\n",
       "      <td>34004</td>\n",
       "      <td>33992</td>\n",
       "      <td>34004</td>\n",
       "      <td>33991</td>\n",
       "      <td>34004</td>\n",
       "      <td>34004</td>\n",
       "      <td>34004</td>\n",
       "      <td>34004</td>\n",
       "      <td>34004</td>\n",
       "      <td>34004</td>\n",
       "      <td>34004</td>\n",
       "      <td>34004</td>\n",
       "      <td>27139</td>\n",
       "      <td>27139</td>\n",
       "      <td>34004</td>\n",
       "      <td>34004</td>\n",
       "    </tr>\n",
       "    <tr>\n",
       "      <th>size</th>\n",
       "      <td>34004</td>\n",
       "      <td>34004</td>\n",
       "      <td>34004</td>\n",
       "      <td>34004</td>\n",
       "      <td>34004</td>\n",
       "      <td>34004</td>\n",
       "      <td>34004</td>\n",
       "      <td>34004</td>\n",
       "      <td>34004</td>\n",
       "      <td>34004</td>\n",
       "      <td>34004</td>\n",
       "      <td>34004</td>\n",
       "      <td>34004</td>\n",
       "      <td>34004</td>\n",
       "      <td>34004</td>\n",
       "      <td>34004</td>\n",
       "      <td>34004</td>\n",
       "    </tr>\n",
       "    <tr>\n",
       "      <th>nunique</th>\n",
       "      <td>34004</td>\n",
       "      <td>34004</td>\n",
       "      <td>33449</td>\n",
       "      <td>27287</td>\n",
       "      <td>9245</td>\n",
       "      <td>5</td>\n",
       "      <td>217</td>\n",
       "      <td>16371</td>\n",
       "      <td>12862</td>\n",
       "      <td>3</td>\n",
       "      <td>536</td>\n",
       "      <td>90</td>\n",
       "      <td>367</td>\n",
       "      <td>1669</td>\n",
       "      <td>881</td>\n",
       "      <td>47</td>\n",
       "      <td>366</td>\n",
       "    </tr>\n",
       "  </tbody>\n",
       "</table>\n",
       "</div>"
      ],
      "text/plain": [
       "         index     id   name  host_id  host_name  neighbourhood_group  \\\n",
       "count    34004  34004  33992    34004      33991                34004   \n",
       "size     34004  34004  34004    34004      34004                34004   \n",
       "nunique  34004  34004  33449    27287       9245                    5   \n",
       "\n",
       "         neighbourhood  latitude  longitude  room_type  price  minimum_nights  \\\n",
       "count            34004     34004      34004      34004  34004           34004   \n",
       "size             34004     34004      34004      34004  34004           34004   \n",
       "nunique            217     16371      12862          3    536              90   \n",
       "\n",
       "         number_of_reviews  last_review  reviews_per_month  \\\n",
       "count                34004        27139              27139   \n",
       "size                 34004        34004              34004   \n",
       "nunique                367         1669                881   \n",
       "\n",
       "         calculated_host_listings_count  availability_365  \n",
       "count                             34004             34004  \n",
       "size                              34004             34004  \n",
       "nunique                              47               366  "
      ]
     },
     "execution_count": 8,
     "metadata": {},
     "output_type": "execute_result"
    }
   ],
   "source": [
    "# Chech coun, size and unique values for all columns in Train data\n",
    "Train.agg(['count', 'size', 'nunique'])"
   ]
  },
  {
   "cell_type": "code",
   "execution_count": 9,
   "metadata": {},
   "outputs": [
    {
     "data": {
      "text/plain": [
       "(34004, 12)"
      ]
     },
     "execution_count": 9,
     "metadata": {},
     "output_type": "execute_result"
    }
   ],
   "source": [
    "# Drop columns \n",
    "drop_col=['id','name', 'host_name', 'neighbourhood', 'last_review'] #last_review:Date\n",
    "train=Train.drop(drop_col, axis=1)\n",
    "train.shape\n"
   ]
  },
  {
   "cell_type": "code",
   "execution_count": 10,
   "metadata": {},
   "outputs": [
    {
     "data": {
      "text/html": [
       "<div>\n",
       "<style scoped>\n",
       "    .dataframe tbody tr th:only-of-type {\n",
       "        vertical-align: middle;\n",
       "    }\n",
       "\n",
       "    .dataframe tbody tr th {\n",
       "        vertical-align: top;\n",
       "    }\n",
       "\n",
       "    .dataframe thead th {\n",
       "        text-align: right;\n",
       "    }\n",
       "</style>\n",
       "<table border=\"1\" class=\"dataframe\">\n",
       "  <thead>\n",
       "    <tr style=\"text-align: right;\">\n",
       "      <th></th>\n",
       "      <th>index</th>\n",
       "      <th>host_id</th>\n",
       "      <th>neighbourhood_group</th>\n",
       "      <th>latitude</th>\n",
       "      <th>longitude</th>\n",
       "      <th>room_type</th>\n",
       "      <th>price</th>\n",
       "      <th>minimum_nights</th>\n",
       "      <th>number_of_reviews</th>\n",
       "      <th>reviews_per_month</th>\n",
       "      <th>calculated_host_listings_count</th>\n",
       "      <th>availability_365</th>\n",
       "    </tr>\n",
       "  </thead>\n",
       "  <tbody>\n",
       "    <tr>\n",
       "      <th>2</th>\n",
       "      <td>3</td>\n",
       "      <td>43392243</td>\n",
       "      <td>Staten Island</td>\n",
       "      <td>40.60110</td>\n",
       "      <td>-74.07830</td>\n",
       "      <td>Shared room</td>\n",
       "      <td>30</td>\n",
       "      <td>2</td>\n",
       "      <td>0</td>\n",
       "      <td>NaN</td>\n",
       "      <td>4</td>\n",
       "      <td>82</td>\n",
       "    </tr>\n",
       "    <tr>\n",
       "      <th>6</th>\n",
       "      <td>7</td>\n",
       "      <td>20800727</td>\n",
       "      <td>Brooklyn</td>\n",
       "      <td>40.69064</td>\n",
       "      <td>-73.97898</td>\n",
       "      <td>Entire home/apt</td>\n",
       "      <td>200</td>\n",
       "      <td>5</td>\n",
       "      <td>0</td>\n",
       "      <td>NaN</td>\n",
       "      <td>1</td>\n",
       "      <td>0</td>\n",
       "    </tr>\n",
       "    <tr>\n",
       "      <th>9</th>\n",
       "      <td>10</td>\n",
       "      <td>24633966</td>\n",
       "      <td>Brooklyn</td>\n",
       "      <td>40.64469</td>\n",
       "      <td>-73.97086</td>\n",
       "      <td>Private room</td>\n",
       "      <td>50</td>\n",
       "      <td>14</td>\n",
       "      <td>0</td>\n",
       "      <td>NaN</td>\n",
       "      <td>1</td>\n",
       "      <td>0</td>\n",
       "    </tr>\n",
       "    <tr>\n",
       "      <th>38</th>\n",
       "      <td>39</td>\n",
       "      <td>200380610</td>\n",
       "      <td>Manhattan</td>\n",
       "      <td>40.76182</td>\n",
       "      <td>-73.99771</td>\n",
       "      <td>Entire home/apt</td>\n",
       "      <td>550</td>\n",
       "      <td>30</td>\n",
       "      <td>0</td>\n",
       "      <td>NaN</td>\n",
       "      <td>65</td>\n",
       "      <td>360</td>\n",
       "    </tr>\n",
       "    <tr>\n",
       "      <th>39</th>\n",
       "      <td>40</td>\n",
       "      <td>21739563</td>\n",
       "      <td>Brooklyn</td>\n",
       "      <td>40.69525</td>\n",
       "      <td>-73.93768</td>\n",
       "      <td>Private room</td>\n",
       "      <td>100</td>\n",
       "      <td>1</td>\n",
       "      <td>0</td>\n",
       "      <td>NaN</td>\n",
       "      <td>1</td>\n",
       "      <td>0</td>\n",
       "    </tr>\n",
       "    <tr>\n",
       "      <th>...</th>\n",
       "      <td>...</td>\n",
       "      <td>...</td>\n",
       "      <td>...</td>\n",
       "      <td>...</td>\n",
       "      <td>...</td>\n",
       "      <td>...</td>\n",
       "      <td>...</td>\n",
       "      <td>...</td>\n",
       "      <td>...</td>\n",
       "      <td>...</td>\n",
       "      <td>...</td>\n",
       "      <td>...</td>\n",
       "    </tr>\n",
       "    <tr>\n",
       "      <th>33978</th>\n",
       "      <td>34199</td>\n",
       "      <td>12243051</td>\n",
       "      <td>Manhattan</td>\n",
       "      <td>40.74680</td>\n",
       "      <td>-73.98329</td>\n",
       "      <td>Entire home/apt</td>\n",
       "      <td>239</td>\n",
       "      <td>29</td>\n",
       "      <td>0</td>\n",
       "      <td>NaN</td>\n",
       "      <td>96</td>\n",
       "      <td>333</td>\n",
       "    </tr>\n",
       "    <tr>\n",
       "      <th>33979</th>\n",
       "      <td>34200</td>\n",
       "      <td>7111113</td>\n",
       "      <td>Brooklyn</td>\n",
       "      <td>40.69582</td>\n",
       "      <td>-73.94989</td>\n",
       "      <td>Private room</td>\n",
       "      <td>133</td>\n",
       "      <td>7</td>\n",
       "      <td>0</td>\n",
       "      <td>NaN</td>\n",
       "      <td>1</td>\n",
       "      <td>0</td>\n",
       "    </tr>\n",
       "    <tr>\n",
       "      <th>33980</th>\n",
       "      <td>34201</td>\n",
       "      <td>107434423</td>\n",
       "      <td>Manhattan</td>\n",
       "      <td>40.74930</td>\n",
       "      <td>-73.97376</td>\n",
       "      <td>Entire home/apt</td>\n",
       "      <td>321</td>\n",
       "      <td>30</td>\n",
       "      <td>0</td>\n",
       "      <td>NaN</td>\n",
       "      <td>232</td>\n",
       "      <td>83</td>\n",
       "    </tr>\n",
       "    <tr>\n",
       "      <th>33981</th>\n",
       "      <td>34202</td>\n",
       "      <td>32340523</td>\n",
       "      <td>Manhattan</td>\n",
       "      <td>40.74409</td>\n",
       "      <td>-73.97145</td>\n",
       "      <td>Entire home/apt</td>\n",
       "      <td>250</td>\n",
       "      <td>1</td>\n",
       "      <td>0</td>\n",
       "      <td>NaN</td>\n",
       "      <td>1</td>\n",
       "      <td>0</td>\n",
       "    </tr>\n",
       "    <tr>\n",
       "      <th>34002</th>\n",
       "      <td>34224</td>\n",
       "      <td>3040551</td>\n",
       "      <td>Brooklyn</td>\n",
       "      <td>40.69709</td>\n",
       "      <td>-73.91435</td>\n",
       "      <td>Private room</td>\n",
       "      <td>80</td>\n",
       "      <td>3</td>\n",
       "      <td>0</td>\n",
       "      <td>NaN</td>\n",
       "      <td>1</td>\n",
       "      <td>0</td>\n",
       "    </tr>\n",
       "  </tbody>\n",
       "</table>\n",
       "<p>6865 rows × 12 columns</p>\n",
       "</div>"
      ],
      "text/plain": [
       "       index    host_id neighbourhood_group  latitude  longitude  \\\n",
       "2          3   43392243       Staten Island  40.60110  -74.07830   \n",
       "6          7   20800727            Brooklyn  40.69064  -73.97898   \n",
       "9         10   24633966            Brooklyn  40.64469  -73.97086   \n",
       "38        39  200380610           Manhattan  40.76182  -73.99771   \n",
       "39        40   21739563            Brooklyn  40.69525  -73.93768   \n",
       "...      ...        ...                 ...       ...        ...   \n",
       "33978  34199   12243051           Manhattan  40.74680  -73.98329   \n",
       "33979  34200    7111113            Brooklyn  40.69582  -73.94989   \n",
       "33980  34201  107434423           Manhattan  40.74930  -73.97376   \n",
       "33981  34202   32340523           Manhattan  40.74409  -73.97145   \n",
       "34002  34224    3040551            Brooklyn  40.69709  -73.91435   \n",
       "\n",
       "             room_type  price  minimum_nights  number_of_reviews  \\\n",
       "2          Shared room     30               2                  0   \n",
       "6      Entire home/apt    200               5                  0   \n",
       "9         Private room     50              14                  0   \n",
       "38     Entire home/apt    550              30                  0   \n",
       "39        Private room    100               1                  0   \n",
       "...                ...    ...             ...                ...   \n",
       "33978  Entire home/apt    239              29                  0   \n",
       "33979     Private room    133               7                  0   \n",
       "33980  Entire home/apt    321              30                  0   \n",
       "33981  Entire home/apt    250               1                  0   \n",
       "34002     Private room     80               3                  0   \n",
       "\n",
       "       reviews_per_month  calculated_host_listings_count  availability_365  \n",
       "2                    NaN                               4                82  \n",
       "6                    NaN                               1                 0  \n",
       "9                    NaN                               1                 0  \n",
       "38                   NaN                              65               360  \n",
       "39                   NaN                               1                 0  \n",
       "...                  ...                             ...               ...  \n",
       "33978                NaN                              96               333  \n",
       "33979                NaN                               1                 0  \n",
       "33980                NaN                             232                83  \n",
       "33981                NaN                               1                 0  \n",
       "34002                NaN                               1                 0  \n",
       "\n",
       "[6865 rows x 12 columns]"
      ]
     },
     "execution_count": 10,
     "metadata": {},
     "output_type": "execute_result"
    }
   ],
   "source": [
    "train[train.isnull().any(axis=1)]"
   ]
  },
  {
   "cell_type": "code",
   "execution_count": 11,
   "metadata": {},
   "outputs": [
    {
     "name": "stdout",
     "output_type": "stream",
     "text": [
      "index                             0\n",
      "host_id                           0\n",
      "neighbourhood_group               0\n",
      "latitude                          0\n",
      "longitude                         0\n",
      "room_type                         0\n",
      "price                             0\n",
      "minimum_nights                    0\n",
      "number_of_reviews                 0\n",
      "reviews_per_month                 0\n",
      "calculated_host_listings_count    0\n",
      "availability_365                  0\n",
      "dtype: int64\n",
      "(34004, 12)\n"
     ]
    }
   ],
   "source": [
    "# Filling missing value for reviews_per_month with 0\n",
    "train['reviews_per_month']=train['reviews_per_month'].fillna(0)\n",
    "print(train.isnull().sum())\n",
    "print(train.shape)"
   ]
  },
  {
   "cell_type": "code",
   "execution_count": 12,
   "metadata": {},
   "outputs": [
    {
     "data": {
      "image/png": "[encoded data removed]",
      "text/plain": [
       "<Figure size 1440x1080 with 2 Axes>"
      ]
     },
     "metadata": {
      "needs_background": "light"
     },
     "output_type": "display_data"
    }
   ],
   "source": [
    "#Visualizing the correlation of features in train dataset\n",
    "plt.figure(figsize=(20,15))\n",
    "sns.heatmap(train.corr(), annot = True, vmin=-1, vmax=1, center= 0, cmap= 'coolwarm')\n",
    "plt.show()"
   ]
  },
  {
   "cell_type": "code",
   "execution_count": 13,
   "metadata": {},
   "outputs": [
    {
     "name": "stdout",
     "output_type": "stream",
     "text": [
      "Numeric_col:\n",
      " ['index', 'host_id', 'latitude', 'longitude', 'price', 'minimum_nights', 'number_of_reviews', 'reviews_per_month', 'calculated_host_listings_count', 'availability_365']\n",
      "\n",
      "Categorical_col:\n",
      " ['neighbourhood_group', 'room_type']\n"
     ]
    }
   ],
   "source": [
    "#Indicating the numeric and categorical variables in train dataset\n",
    "Numeric_col=[col for col in train.columns if train[col].dtype.name !='object' ]\n",
    "Categorical_col=[col for col in train.columns if train[col].dtype.name =='object']\n",
    "print('Numeric_col:\\n', Numeric_col)\n",
    "print('\\nCategorical_col:\\n', Categorical_col)"
   ]
  },
  {
   "cell_type": "code",
   "execution_count": 14,
   "metadata": {},
   "outputs": [
    {
     "data": {
      "image/png": "[encoded data removed]",
      "text/plain": [
       "<Figure size 432x288 with 1 Axes>"
      ]
     },
     "metadata": {
      "needs_background": "light"
     },
     "output_type": "display_data"
    },
    {
     "data": {
      "image/png": "[encoded data removed]",
      "text/plain": [
       "<Figure size 432x288 with 1 Axes>"
      ]
     },
     "metadata": {
      "needs_background": "light"
     },
     "output_type": "display_data"
    },
    {
     "data": {
      "image/png": "[encoded data removed]",
      "text/plain": [
       "<Figure size 432x288 with 1 Axes>"
      ]
     },
     "metadata": {
      "needs_background": "light"
     },
     "output_type": "display_data"
    },
    {
     "data": {
      "image/png": "[encoded data removed]",
      "text/plain": [
       "<Figure size 432x288 with 1 Axes>"
      ]
     },
     "metadata": {
      "needs_background": "light"
     },
     "output_type": "display_data"
    },
    {
     "data": {
      "image/png": "[encoded data removed]",
      "text/plain": [
       "<Figure size 432x288 with 1 Axes>"
      ]
     },
     "metadata": {
      "needs_background": "light"
     },
     "output_type": "display_data"
    },
    {
     "data": {
      "image/png": "[encoded data removed]",
      "text/plain": [
       "<Figure size 432x288 with 1 Axes>"
      ]
     },
     "metadata": {
      "needs_background": "light"
     },
     "output_type": "display_data"
    },
    {
     "data": {
      "image/png": "[encoded data removed]",
      "text/plain": [
       "<Figure size 432x288 with 1 Axes>"
      ]
     },
     "metadata": {
      "needs_background": "light"
     },
     "output_type": "display_data"
    },
    {
     "data": {
      "image/png": "[encoded data removed]",
      "text/plain": [
       "<Figure size 432x288 with 1 Axes>"
      ]
     },
     "metadata": {
      "needs_background": "light"
     },
     "output_type": "display_data"
    },
    {
     "data": {
      "image/png": "[encoded data removed]",
      "text/plain": [
       "<Figure size 432x288 with 1 Axes>"
      ]
     },
     "metadata": {
      "needs_background": "light"
     },
     "output_type": "display_data"
    },
    {
     "data": {
      "image/png": "[encoded data removed]",
      "text/plain": [
       "<Figure size 432x288 with 1 Axes>"
      ]
     },
     "metadata": {
      "needs_background": "light"
     },
     "output_type": "display_data"
    }
   ],
   "source": [
    "for column in Numeric_col:\n",
    "    plt.figure()\n",
    "    sns.boxplot(x=Train[column])"
   ]
  },
  {
   "cell_type": "code",
   "execution_count": 15,
   "metadata": {},
   "outputs": [
    {
     "data": {
      "image/png": "[encoded data removed]",
      "text/plain": [
       "<Figure size 1800x1440 with 12 Axes>"
      ]
     },
     "metadata": {
      "needs_background": "light"
     },
     "output_type": "display_data"
    }
   ],
   "source": [
    "#Histograms for variables in train dataset\n",
    "fig = plt.figure(figsize=(25, 20))\n",
    "cols = 4\n",
    "rows = np.ceil(float(train.shape[1]) / cols)\n",
    "for i, column in enumerate(train.columns):\n",
    "    ax = fig.add_subplot(rows, cols, i + 1)\n",
    "    ax.set_title(column)\n",
    "    plt.rcParams['font.size'] = '20'\n",
    "    if train.dtypes[column] == np.object:\n",
    "        train[column].value_counts().plot(kind=\"bar\", axes=ax)\n",
    "        plt.xticks(rotation=90)\n",
    "    else:\n",
    "        train[column].hist(axes=ax)\n",
    "        plt.xticks(rotation=90)\n",
    "plt.subplots_adjust(hspace=0.8, wspace=0.4)"
   ]
  },
  {
   "cell_type": "code",
   "execution_count": 16,
   "metadata": {},
   "outputs": [],
   "source": [
    "#Label Encoding Categorical variables\n",
    "OH = OneHotEncoder()\n",
    "OH_value = OH.fit_transform(train[[\"neighbourhood_group\"]])\n",
    "OH_nbgroup=pd.DataFrame(OH_value.toarray(), columns=OH.categories_)\n",
    "\n",
    "OH_value_room_type = OH.fit_transform(train[['room_type']])\n",
    "OH_df_room_type=pd.DataFrame(OH_value_room_type.toarray(), columns=OH.categories_)\n",
    "DF=pd.concat([train,OH_nbgroup, OH_df_room_type], axis=1)"
   ]
  },
  {
   "cell_type": "code",
   "execution_count": 17,
   "metadata": {},
   "outputs": [
    {
     "data": {
      "text/plain": [
       "(34004, 20)"
      ]
     },
     "execution_count": 17,
     "metadata": {},
     "output_type": "execute_result"
    }
   ],
   "source": [
    "DF.shape"
   ]
  },
  {
   "cell_type": "code",
   "execution_count": 18,
   "metadata": {},
   "outputs": [],
   "source": [
    "#Dropping features \n",
    "#df=DF.drop(['neighbourhood_group','room_type','latitude','longitude'], axis=1)\n",
    "df=DF.drop(['neighbourhood_group','room_type'], axis=1)\n"
   ]
  },
  {
   "cell_type": "code",
   "execution_count": 19,
   "metadata": {},
   "outputs": [],
   "source": [
    "#Scaling the variables\n",
    "df['price']=df['price']**(.5)\n",
    "df['minimum_nights']=df['minimum_nights']**(.5)"
   ]
  },
  {
   "cell_type": "code",
   "execution_count": 20,
   "metadata": {},
   "outputs": [],
   "source": [
    "#Indicating target and feature variables\n",
    "X  =df.drop('price',axis=1)\n",
    "y = df['price'].copy()\n"
   ]
  },
  {
   "cell_type": "code",
   "execution_count": 21,
   "metadata": {},
   "outputs": [
    {
     "name": "stdout",
     "output_type": "stream",
     "text": [
      "(23802, 17) (10202, 17) (23802,) (10202,)\n"
     ]
    }
   ],
   "source": [
    "#Train test split for modeling\n",
    "x_train,x_test,y_train,y_test=train_test_split(X,y,test_size=0.3,random_state=0)\n",
    "print(x_train.shape,x_test.shape,y_train.shape,y_test.shape)"
   ]
  },
  {
   "cell_type": "code",
   "execution_count": 22,
   "metadata": {},
   "outputs": [
    {
     "data": {
      "text/plain": [
       "array([[ 0.60937882,  0.73243963, -0.28923185, ...,  0.95770399,\n",
       "        -0.91402466, -0.15422701],\n",
       "       [ 0.68572562,  1.95559518,  0.34641617, ..., -1.04416397,\n",
       "         1.09406238, -0.15422701],\n",
       "       [-0.59073221, -0.72298693, -0.09685021, ...,  0.95770399,\n",
       "        -0.91402466, -0.15422701],\n",
       "       ...,\n",
       "       [ 0.05786167, -0.16598949,  1.3503219 , ..., -1.04416397,\n",
       "         1.09406238, -0.15422701],\n",
       "       [-0.38666884, -0.73554727, -0.21495677, ...,  0.95770399,\n",
       "        -0.91402466, -0.15422701],\n",
       "       [-1.44247936, -0.40605904, -1.15724169, ..., -1.04416397,\n",
       "         1.09406238, -0.15422701]])"
      ]
     },
     "execution_count": 22,
     "metadata": {},
     "output_type": "execute_result"
    }
   ],
   "source": [
    "#Scaling xtrain and xtest data\n",
    "from sklearn.preprocessing import StandardScaler\n",
    "sc = StandardScaler()\n",
    "sc.fit_transform(x_train)\n",
    "sc.transform(x_test)"
   ]
  },
  {
   "cell_type": "markdown",
   "metadata": {},
   "source": [
    "## Linear Regression"
   ]
  },
  {
   "cell_type": "code",
   "execution_count": 23,
   "metadata": {},
   "outputs": [
    {
     "name": "stdout",
     "output_type": "stream",
     "text": [
      "lm_mse= 8.89104451872499\n",
      "lm_rmse= 2.9817854581986594\n",
      "lm_r2= 0.4481\n",
      "MAPE 18.48044085083429\n"
     ]
    }
   ],
   "source": [
    "from sklearn.linear_model import LinearRegression\n",
    "lm = LinearRegression()\n",
    "# fit the model\n",
    "lm.fit(x_train,y_train)\n",
    "# predict the result\n",
    "y_pred = lm.predict(x_test)\n",
    "# Calculate mean square error\n",
    "lm_mse = mean_squared_error(y_test, y_pred)\n",
    "# Calculate rmse\n",
    "lm_rmse=np.sqrt(mean_squared_error(y_test, y_pred))\n",
    "# Calculate r2_score\n",
    "lm_r2 = r2_score(y_test, y_pred)\n",
    "\n",
    "print('lm_mse=',lm_mse)\n",
    "print('lm_rmse=', lm_rmse)\n",
    "print('lm_r2=', \"%.4f\" % lm_r2)\n",
    "\n",
    "mape = np.mean(np.abs((y_test- y_pred)/y_test))*100\n",
    "\n",
    "print('MAPE',mape)\n"
   ]
  },
  {
   "cell_type": "code",
   "execution_count": 24,
   "metadata": {},
   "outputs": [
    {
     "name": "stdout",
     "output_type": "stream",
     "text": [
      "\n",
      "lm_cv_r2= 0.4503\n"
     ]
    }
   ],
   "source": [
    "###----------------------------------------------------###\n",
    "\n",
    "# Initiate cross validation score\n",
    "score = cross_val_score(lm,x_train,y_train,scoring='r2',cv=10)\n",
    "\n",
    "#calculate mean of the score\n",
    "\n",
    "mean_score = np.mean(score)\n",
    "print('\\nlm_cv_r2=',\"%.4f\" % mean_score)\n",
    "\n",
    "  "
   ]
  },
  {
   "cell_type": "markdown",
   "metadata": {},
   "source": [
    "## LASSO/RIDGE REGRESSION"
   ]
  },
  {
   "cell_type": "code",
   "execution_count": 25,
   "metadata": {},
   "outputs": [
    {
     "name": "stdout",
     "output_type": "stream",
     "text": [
      "lasso_mse= 14.66\n",
      "lasso_rmse= 3.83\n",
      "lasso_r2= 0.0903\n",
      "MAPE 27.612652716188187\n"
     ]
    }
   ],
   "source": [
    "lasso=Lasso()\n",
    "lasso.fit(x_train,y_train)\n",
    "\n",
    "# fit and predict\n",
    "lasso_pred=lasso.predict(x_test)\n",
    "\n",
    "lasso_mse = mean_squared_error(y_test, lasso_pred)\n",
    "print('lasso_mse=',\"%.2f\" %  lasso_mse )\n",
    "# calculate RMSE\n",
    "lasso_rmse=np.sqrt(mean_squared_error(lasso_pred, y_test))\n",
    "print('lasso_rmse=',\"%.2f\" % lasso_rmse)\n",
    "\n",
    "lasso_r2 = r2_score(y_test, lasso_pred)\n",
    "print('lasso_r2=', \"%.4f\" % lasso_r2)\n",
    "\n",
    "mape = np.mean(np.abs((y_test- lasso_pred)/y_test))*100\n",
    "\n",
    "print('MAPE',mape)"
   ]
  },
  {
   "cell_type": "code",
   "execution_count": 26,
   "metadata": {},
   "outputs": [
    {
     "name": "stdout",
     "output_type": "stream",
     "text": [
      "ridge_mse= 8.89\n",
      "ridge_rmse= 2.98\n",
      "lasso_r2= 0.4482\n"
     ]
    }
   ],
   "source": [
    "ridge=Ridge()\n",
    "ridge.fit(x_train,y_train)\n",
    "\n",
    "# fit and predict\n",
    "ridge_pred=ridge.predict(x_test)\n",
    "\n",
    "ridge_mse = mean_squared_error(y_test, ridge_pred)\n",
    "print('ridge_mse=',\"%.2f\" %  ridge_mse )\n",
    "\n",
    "# calculate RMSE\n",
    "ridge_rmse=np.sqrt(mean_squared_error(ridge_pred, y_test))\n",
    "print('ridge_rmse=', \"%.2f\" %  ridge_rmse)\n",
    "\n",
    "ridge_r2 = r2_score(y_test, ridge_pred)\n",
    "print('lasso_r2=', \"%.4f\" % ridge_r2)"
   ]
  },
  {
   "cell_type": "markdown",
   "metadata": {},
   "source": [
    "## Cross Validation on Lasso/Ridge Regression"
   ]
  },
  {
   "cell_type": "code",
   "execution_count": 27,
   "metadata": {},
   "outputs": [
    {
     "name": "stdout",
     "output_type": "stream",
     "text": [
      "\n",
      "lasso_cv_r2= 0.09724539737387099\n",
      "\n",
      "ridge_cv_r2= 0.4503008359481572\n"
     ]
    }
   ],
   "source": [
    "from sklearn.metrics import make_scorer\n",
    "from sklearn.model_selection import cross_val_score\n",
    "scorer = make_scorer(mean_squared_error, greater_is_better = False)\n",
    "\n",
    "\n",
    "\n",
    "# cross validation with L1\n",
    "lasso_cv_r2=np.mean(cross_val_score(lasso, x_train, y_train, scoring='r2', cv=10))\n",
    "print('\\nlasso_cv_r2=',lasso_cv_r2)\n",
    "\n",
    "#score = cross_val_score(lm,X_train,y_train,scoring='r2',cv=10)\n",
    "\n",
    "# cross validation with L2\n",
    "ridge_cv_r2=np.mean(cross_val_score(ridge, x_train, y_train, scoring='r2', cv=10))\n",
    "print('\\nridge_cv_r2=',ridge_cv_r2)"
   ]
  },
  {
   "cell_type": "markdown",
   "metadata": {},
   "source": [
    "## Grid Search on Lasso/Ridge Regression"
   ]
  },
  {
   "cell_type": "code",
   "execution_count": 28,
   "metadata": {},
   "outputs": [
    {
     "name": "stdout",
     "output_type": "stream",
     "text": [
      "ridge_rmse_grid= 2.981 \n",
      "lasso_rmse_grid= 3.828\n",
      "\n",
      "ridge_grid_r2= 0.4481\n",
      "lasso_grid_r2= 0.4481\n"
     ]
    }
   ],
   "source": [
    "from sklearn.model_selection import GridSearchCV, RandomizedSearchCV\n",
    "\n",
    "# regularization parameters for grid search\n",
    "ridge_lambdas = [0.01, 0.03, 0.06, 0.1, 0.3, 0.6, 1, 3, 6, 10, 30, 60]\n",
    "lasso_lambdas = [0.0001, 0.0003, 0.0006, 0.001, 0.003, 0.006, 0.01, 0.03, 0.06, 0.1, 0.3, 0.6, 1]\n",
    "\n",
    "# Code starts here\n",
    "\n",
    "# instantiate lasso and ridge models\n",
    "ridge_model=Ridge()\n",
    "lasso_model=Lasso()\n",
    "\n",
    "# grid search on lasso and ridge\n",
    "ridge_grid=GridSearchCV(estimator= ridge_model, param_grid=dict(alpha=ridge_lambdas))\n",
    "ridge_grid.fit(x_train,y_train)\n",
    "\n",
    "lasso_grid=GridSearchCV(estimator= lasso_model, param_grid=dict(alpha=lasso_lambdas))\n",
    "lasso_grid.fit(x_train,y_train)\n",
    "# make predictions \n",
    "ridge_grid_pred=ridge_grid.predict(x_test)\n",
    "lasso_grid_pred=lasso_grid.predict(x_test)\n",
    "\n",
    "# print out which is better\n",
    "ridge_grid_rmse=np.sqrt(mean_squared_error(ridge_grid_pred, y_test))\n",
    "lasso_grid_rmse=np.sqrt(mean_squared_error(lasso_grid_pred, y_test))\n",
    "print('ridge_rmse_grid=', round(ridge_rmse,3), '\\nlasso_rmse_grid=', round(lasso_rmse,3))\n",
    "\n",
    "ridge_grid_r2 = r2_score(y_test, ridge_grid_pred)\n",
    "print('\\nridge_grid_r2=', \"%.4f\" % ridge_grid_r2)\n",
    "\n",
    "lasso_grid_r2 = r2_score(y_test, lasso_grid_pred)\n",
    "print('lasso_grid_r2=', \"%.4f\" % lasso_grid_r2)\n"
   ]
  },
  {
   "cell_type": "markdown",
   "metadata": {},
   "source": [
    "## Adding Polynomial Features to Linear Regression Model"
   ]
  },
  {
   "cell_type": "code",
   "execution_count": 29,
   "metadata": {},
   "outputs": [
    {
     "name": "stdout",
     "output_type": "stream",
     "text": [
      "pipe_mse= 9.794378105595415\n",
      "pipe_rmse= 3.1295971155398603\n",
      "pipe_r2= 0.3832\n",
      "\n",
      "------************--------\n",
      "\n",
      "pipe_mse= 10.025279068022185\n",
      "pipe_rmse= 3.1662721089669765\n",
      "pipe_r2= 0.3777\n"
     ]
    }
   ],
   "source": [
    "Input=[('polynomial',PolynomialFeatures(degree=2)),('modal',LinearRegression())]\n",
    "pipe=Pipeline(Input)\n",
    "pipe.fit(x_train,y_train)\n",
    "pipe_pred_train=pipe.predict(x_train)\n",
    "pipe_pred_test = pipe.predict(x_test)\n",
    "\n",
    "\n",
    "pipe_mse_train = mean_squared_error(y_train, pipe_pred_train)\n",
    "print('pipe_mse=',pipe_mse_train)\n",
    "pipe_rmse_train=np.sqrt(mean_squared_error(y_train, pipe_pred_train))\n",
    "print('pipe_rmse=', pipe_rmse_train)\n",
    "# Calculate r2_score\n",
    "pipe_r2_train = r2_score(y_train, pipe_pred_train)\n",
    "print('pipe_r2=', \"%.4f\" % pipe_r2_train )\n",
    "\n",
    "print('\\n------************--------')\n",
    "\n",
    "pipe_mse = mean_squared_error(y_test, pipe_pred_test)\n",
    "print('\\npipe_mse=',pipe_mse)\n",
    "pipe_rmse=np.sqrt(mean_squared_error(y_test, pipe_pred_test))\n",
    "print('pipe_rmse=', pipe_rmse)\n",
    "# Calculate r2_score\n",
    "pipe_r2 = r2_score(y_test, pipe_pred_test)\n",
    "print('pipe_r2=', \"%.4f\" % pipe_r2)"
   ]
  },
  {
   "cell_type": "code",
   "execution_count": 30,
   "metadata": {},
   "outputs": [
    {
     "name": "stdout",
     "output_type": "stream",
     "text": [
      "18.48044085083429\n"
     ]
    }
   ],
   "source": [
    "mape = np.mean(np.abs((y_test- y_pred)/y_test))*100\n",
    "print(mape)"
   ]
  },
  {
   "cell_type": "code",
   "execution_count": 34,
   "metadata": {},
   "outputs": [
    {
     "data": {
      "image/png": "[encoded data removed]",
      "text/plain": [
       "<Figure size 432x288 with 1 Axes>"
      ]
     },
     "metadata": {
      "needs_background": "light"
     },
     "output_type": "display_data"
    }
   ],
   "source": [
    "#intansitize random forest regressor\n",
    "rf = RandomForestRegressor(n_estimators=400,max_depth=4,random_state=40)\n",
    "# fittingt to the random forest\n",
    "rf.fit(x_train, y_train)\n",
    "# Create a pd.Series of features importances\n",
    "importances_rf = pd.Series(rf.feature_importances_, index = X.columns)\n",
    "#sorting importances\n",
    "sorted_importances_rf= importances_rf.sort_values()\n",
    "#Make a horizontal bar plot\n",
    "sorted_importances_rf.plot. barh();\n",
    "plt.show()"
   ]
  },
  {
   "cell_type": "markdown",
   "metadata": {},
   "source": [
    "## Random Forest Regressor"
   ]
  },
  {
   "cell_type": "code",
   "execution_count": 35,
   "metadata": {},
   "outputs": [
    {
     "name": "stdout",
     "output_type": "stream",
     "text": [
      "\n",
      "R2: 0.46\n",
      "Validation set MSE of rf:8.67\n",
      "Validation set RMSE of rf:2.94\n"
     ]
    }
   ],
   "source": [
    "# Import mean_squared_error from sklearn.metrics as MSE\n",
    "from sklearn.metrics import mean_squared_error as MSE\n",
    "\n",
    "#intansitize random forest regressor\n",
    "rf = RandomForestRegressor(n_estimators=400,max_depth=4,random_state=40)\n",
    "\n",
    "# fittingt to the random forest\n",
    "rf.fit(x_train, y_train)\n",
    "\n",
    "#predicting the validation set using random forest\n",
    "y_pred=rf.predict(x_test)\n",
    "\n",
    "#Evaling the r-squared score\n",
    "print('\\nR2: {:0.2f}'.format(metrics.r2_score(y_test, y_pred)))\n",
    "\n",
    "#Evalating the MSE for the validation set\n",
    "mse_test=MSE(y_test,y_pred)\n",
    "\n",
    "#Print the validation set MSE value\n",
    "print( 'Validation set MSE of rf:{:.2f}'.format(mse_test))\n",
    "\n",
    "#Evalating the RMSE for the validation set\n",
    "rmse_test=MSE(y_test,y_pred)**(1/2)\n",
    "\n",
    "#Print the validation set RMSE value\n",
    "print( 'Validation set RMSE of rf:{:.2f}'.format(rmse_test))"
   ]
  },
  {
   "cell_type": "code",
   "execution_count": 36,
   "metadata": {},
   "outputs": [
    {
     "name": "stdout",
     "output_type": "stream",
     "text": [
      "\n",
      "rf_cv_r2= 0.4722\n"
     ]
    }
   ],
   "source": [
    "# Initiate cross validation score\n",
    "score = cross_val_score(rf,x_train,y_train,scoring='r2',cv=10)\n",
    "\n",
    "#calculate mean of the score\n",
    "\n",
    "mean_score = np.mean(score)\n",
    "print('\\nrf_cv_r2=',\"%.4f\" % mean_score)"
   ]
  },
  {
   "cell_type": "markdown",
   "metadata": {},
   "source": [
    "# Stochastic Gradient Boosting Regressor"
   ]
  },
  {
   "cell_type": "code",
   "execution_count": 37,
   "metadata": {},
   "outputs": [
    {
     "name": "stdout",
     "output_type": "stream",
     "text": [
      "\n",
      "R2: 0.49\n",
      "Validation set MSE of rf:8.15\n",
      "Test set RMSE: 2.86\n"
     ]
    }
   ],
   "source": [
    "from sklearn.ensemble import GradientBoostingRegressor\n",
    "#Initialize Gradient Boost Regressor\n",
    "sgbt = GradientBoostingRegressor(max_depth=1,\n",
    "                                 subsample=0.8,\n",
    "                                 max_features=0.2,\n",
    "                                 n_estimators=300,random_state=40)\n",
    "#fitting the trainig data to SGBT\n",
    "sgbt.fit(x_train, y_train)\n",
    "\n",
    "#predicting the validation data\n",
    "y_pred= sgbt.predict(x_test)\n",
    "\n",
    "#Evaling the r-squared score\n",
    "print('\\nR2: {:0.2f}'.format(metrics.r2_score(y_test, y_pred)))\n",
    "\n",
    "#Evalating the MSE for the validation set\n",
    "mse_test=MSE(y_test,y_pred)\n",
    "\n",
    "#Print the validation set MSE value\n",
    "print( 'Validation set MSE of rf:{:.2f}'.format(mse_test))\n",
    "\n",
    "#Evaluating the RMSE for the validation set\n",
    "rmse_test= MSE(y_test, y_pred)**(1/2)\n",
    "\n",
    "print('Test set RMSE: {:.2f}'.format(rmse_test))"
   ]
  },
  {
   "cell_type": "code",
   "execution_count": 38,
   "metadata": {},
   "outputs": [
    {
     "name": "stdout",
     "output_type": "stream",
     "text": [
      "\n",
      "sgbt_cv_r2= 0.5020\n"
     ]
    }
   ],
   "source": [
    "# Initiate cross validation score\n",
    "score = cross_val_score(sgbt,x_train,y_train,scoring='r2',cv=10)\n",
    "\n",
    "#calculate mean of the score\n",
    "\n",
    "mean_score = np.mean(score)\n",
    "print('\\nsgbt_cv_r2=',\"%.4f\" % mean_score)"
   ]
  },
  {
   "cell_type": "markdown",
   "metadata": {},
   "source": [
    "## Decision Tree Regression"
   ]
  },
  {
   "cell_type": "code",
   "execution_count": 39,
   "metadata": {},
   "outputs": [
    {
     "name": "stdout",
     "output_type": "stream",
     "text": [
      "\n",
      "R2: 0.41\n",
      "Test set MSE of dt: 9.55\n",
      "Test set RMSE of dt: 3.09\n"
     ]
    }
   ],
   "source": [
    "#importing Decision Tree Regressor\n",
    "from sklearn.tree import DecisionTreeRegressor\n",
    "\n",
    "# Intialize dt\n",
    "dt = DecisionTreeRegressor(max_depth=8,\n",
    "             min_samples_leaf=0.13,\n",
    "            random_state=3)\n",
    "\n",
    "# Fit dt to the training set\n",
    "dt.fit(x_train,y_train)\n",
    "\n",
    "\n",
    "from sklearn.tree import DecisionTreeRegressor\n",
    "# Import mean_squared_error from sklearn.metrics as MSE\n",
    "from sklearn.metrics import mean_squared_error as MSE\n",
    "\n",
    "# Compute y_pred\n",
    "y_pred = dt.predict(x_test)\n",
    "\n",
    "# Compute mse_dt\n",
    "mse_dt = MSE(y_test,y_pred)\n",
    "\n",
    "\n",
    "print('\\nR2: {:0.2f}'.format(metrics.r2_score(y_test, y_pred)))\n",
    "\n",
    "# Print rmse_dt\n",
    "print(\"Test set MSE of dt: {:.2f}\".format(mse_dt))\n",
    "\n",
    "# Compute rmse_dt\n",
    "rmse_dt = mse_dt**(1/2)\n",
    "\n",
    "# Print rmse_dt\n",
    "print(\"Test set RMSE of dt: {:.2f}\".format(rmse_dt))"
   ]
  },
  {
   "cell_type": "code",
   "execution_count": 40,
   "metadata": {},
   "outputs": [
    {
     "name": "stdout",
     "output_type": "stream",
     "text": [
      "\n",
      "dt_cv_r2= 0.4127\n"
     ]
    }
   ],
   "source": [
    "# Initiate cross validation score\n",
    "score = cross_val_score(dt,x_train,y_train,scoring='r2',cv=10)\n",
    "\n",
    "#calculate mean of the score\n",
    "\n",
    "mean_score = np.mean(score)\n",
    "print('\\ndt_cv_r2=',\"%.4f\" % mean_score)"
   ]
  },
  {
   "cell_type": "markdown",
   "metadata": {},
   "source": [
    "## Running Stochastic GradientBoosting Regressor on the test data"
   ]
  },
  {
   "cell_type": "code",
   "execution_count": 41,
   "metadata": {},
   "outputs": [],
   "source": [
    "Test=pd.read_csv('Test.csv')\n",
    "Test.head(2)\n",
    "\n",
    "\n",
    "# Drop columns \n",
    "drop_list=['id','name','host_name', 'neighbourhood', 'last_review'] #last_review:Date\n",
    "Test1=Test.drop(drop_list, axis=1)\n",
    "Test1.shape\n",
    "\n",
    "#Label Encoding all categorical variables\n",
    "LE = LabelEncoder()\n",
    "Test1['room_type_LE'] = LE.fit_transform(Test1['room_type'])\n",
    "\n",
    "Test1['minimum_nights']=Test1['minimum_nights']**(.5)"
   ]
  },
  {
   "cell_type": "code",
   "execution_count": 42,
   "metadata": {},
   "outputs": [],
   "source": [
    "x_test.shape, Test1.shape\n",
    "\n",
    "#predicting the validation data\n",
    "y_pred= sgbt.predict(x_test)"
   ]
  },
  {
   "cell_type": "code",
   "execution_count": 51,
   "metadata": {},
   "outputs": [
    {
     "data": {
      "text/plain": [
       "((10202, 17), (14669, 11))"
      ]
     },
     "execution_count": 51,
     "metadata": {},
     "output_type": "execute_result"
    }
   ],
   "source": [
    "x_test.shape, Test1.shape"
   ]
  },
  {
   "cell_type": "code",
   "execution_count": 52,
   "metadata": {},
   "outputs": [
    {
     "data": {
      "text/html": [
       "<div>\n",
       "<style scoped>\n",
       "    .dataframe tbody tr th:only-of-type {\n",
       "        vertical-align: middle;\n",
       "    }\n",
       "\n",
       "    .dataframe tbody tr th {\n",
       "        vertical-align: top;\n",
       "    }\n",
       "\n",
       "    .dataframe thead th {\n",
       "        text-align: right;\n",
       "    }\n",
       "</style>\n",
       "<table border=\"1\" class=\"dataframe\">\n",
       "  <thead>\n",
       "    <tr style=\"text-align: right;\">\n",
       "      <th></th>\n",
       "      <th>index</th>\n",
       "      <th>host_id</th>\n",
       "      <th>latitude</th>\n",
       "      <th>longitude</th>\n",
       "      <th>minimum_nights</th>\n",
       "      <th>number_of_reviews</th>\n",
       "      <th>reviews_per_month</th>\n",
       "      <th>calculated_host_listings_count</th>\n",
       "      <th>availability_365</th>\n",
       "      <th>(Bronx,)</th>\n",
       "      <th>(Brooklyn,)</th>\n",
       "      <th>(Manhattan,)</th>\n",
       "      <th>(Queens,)</th>\n",
       "      <th>(Staten Island,)</th>\n",
       "      <th>(Entire home/apt,)</th>\n",
       "      <th>(Private room,)</th>\n",
       "      <th>(Shared room,)</th>\n",
       "    </tr>\n",
       "  </thead>\n",
       "  <tbody>\n",
       "    <tr>\n",
       "      <th>22965</th>\n",
       "      <td>23112</td>\n",
       "      <td>125090618</td>\n",
       "      <td>40.7132</td>\n",
       "      <td>-73.96042</td>\n",
       "      <td>3.162278</td>\n",
       "      <td>0</td>\n",
       "      <td>0.0</td>\n",
       "      <td>1</td>\n",
       "      <td>0</td>\n",
       "      <td>0.0</td>\n",
       "      <td>1.0</td>\n",
       "      <td>0.0</td>\n",
       "      <td>0.0</td>\n",
       "      <td>0.0</td>\n",
       "      <td>1.0</td>\n",
       "      <td>0.0</td>\n",
       "      <td>0.0</td>\n",
       "    </tr>\n",
       "  </tbody>\n",
       "</table>\n",
       "</div>"
      ],
      "text/plain": [
       "       index    host_id  latitude  longitude  minimum_nights  \\\n",
       "22965  23112  125090618   40.7132  -73.96042        3.162278   \n",
       "\n",
       "       number_of_reviews  reviews_per_month  calculated_host_listings_count  \\\n",
       "22965                  0                0.0                               1   \n",
       "\n",
       "       availability_365  (Bronx,)  (Brooklyn,)  (Manhattan,)  (Queens,)  \\\n",
       "22965                 0       0.0          1.0           0.0        0.0   \n",
       "\n",
       "       (Staten Island,)  (Entire home/apt,)  (Private room,)  (Shared room,)  \n",
       "22965               0.0                 1.0              0.0             0.0  "
      ]
     },
     "execution_count": 52,
     "metadata": {},
     "output_type": "execute_result"
    }
   ],
   "source": [
    "x_test.head(1)"
   ]
  },
  {
   "cell_type": "code",
   "execution_count": 53,
   "metadata": {},
   "outputs": [
    {
     "data": {
      "text/plain": [
       "array([12.25965932,  8.49708106, 14.65010159, ...,  9.81668184,\n",
       "       13.78266323,  8.81840261])"
      ]
     },
     "execution_count": 53,
     "metadata": {},
     "output_type": "execute_result"
    }
   ],
   "source": [
    "# y_pred using sgbt using the Test csv file\n",
    "y_pred"
   ]
  },
  {
   "cell_type": "code",
   "execution_count": 54,
   "metadata": {},
   "outputs": [],
   "source": [
    "# Squaring the values of y_pred to get predicted prices\n",
    "y_predicted=np.square(y_pred)"
   ]
  },
  {
   "cell_type": "code",
   "execution_count": 55,
   "metadata": {},
   "outputs": [],
   "source": [
    "# convert array into dataframe\n",
    "DF1 = pd.DataFrame(y_predicted)"
   ]
  },
  {
   "cell_type": "code",
   "execution_count": 58,
   "metadata": {},
   "outputs": [],
   "source": [
    "#Writing the output to CSV \n",
    "DF1.to_csv(\"Finalreults8.csv\")"
   ]
  },
  {
   "cell_type": "code",
   "execution_count": 57,
   "metadata": {},
   "outputs": [
    {
     "data": {
      "text/plain": [
       "(14669, 11)"
      ]
     },
     "execution_count": 57,
     "metadata": {},
     "output_type": "execute_result"
    }
   ],
   "source": [
    "Test1.shape"
   ]
  },
  {
   "cell_type": "code",
   "execution_count": null,
   "metadata": {},
   "outputs": [],
   "source": []
  }
 ],
 "metadata": {
  "kernelspec": {
   "display_name": "Python 3",
   "language": "python",
   "name": "python3"
  },
  "language_info": {
   "codemirror_mode": {
    "name": "ipython",
    "version": 3
   },
   "file_extension": ".py",
   "mimetype": "text/x-python",
   "name": "python",
   "nbconvert_exporter": "python",
   "pygments_lexer": "ipython3",
   "version": "3.8.3"
  }
 },
 "nbformat": 4,
 "nbformat_minor": 5
}
